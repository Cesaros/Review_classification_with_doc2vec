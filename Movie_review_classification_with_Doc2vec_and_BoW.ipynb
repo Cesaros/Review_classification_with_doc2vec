{
 "cells": [
  {
   "cell_type": "markdown",
   "metadata": {},
   "source": [
    "##### Dataset for Movies: Potts, Christopher. 2011. On the negativity of negation. In Nan Li and David Lutz, eds., Proceedings of Semantics and Linguistic Theory 20, 636-659.\n",
    "\n",
    "http://ai.stanford.edu/~amaas/data/sentiment/"
   ]
  },
  {
   "cell_type": "code",
   "execution_count": 1,
   "metadata": {
    "collapsed": false
   },
   "outputs": [
    {
     "data": {
      "text/html": [
       "<div>\n",
       "<table border=\"1\" class=\"dataframe\">\n",
       "  <thead>\n",
       "    <tr style=\"text-align: right;\">\n",
       "      <th></th>\n",
       "      <th>review</th>\n",
       "      <th>sentiment</th>\n",
       "    </tr>\n",
       "  </thead>\n",
       "  <tbody>\n",
       "    <tr>\n",
       "      <th>0</th>\n",
       "      <td>In 1974, the teenager Martha Moxley (Maggie Gr...</td>\n",
       "      <td>1</td>\n",
       "    </tr>\n",
       "    <tr>\n",
       "      <th>1</th>\n",
       "      <td>OK... so... I really like Kris Kristofferson a...</td>\n",
       "      <td>0</td>\n",
       "    </tr>\n",
       "    <tr>\n",
       "      <th>2</th>\n",
       "      <td>***SPOILER*** Do not read this, if you think a...</td>\n",
       "      <td>0</td>\n",
       "    </tr>\n",
       "    <tr>\n",
       "      <th>3</th>\n",
       "      <td>hi for all the people who have seen this wonde...</td>\n",
       "      <td>1</td>\n",
       "    </tr>\n",
       "    <tr>\n",
       "      <th>4</th>\n",
       "      <td>I recently bought the DVD, forgetting just how...</td>\n",
       "      <td>0</td>\n",
       "    </tr>\n",
       "  </tbody>\n",
       "</table>\n",
       "</div>"
      ],
      "text/plain": [
       "                                              review  sentiment\n",
       "0  In 1974, the teenager Martha Moxley (Maggie Gr...          1\n",
       "1  OK... so... I really like Kris Kristofferson a...          0\n",
       "2  ***SPOILER*** Do not read this, if you think a...          0\n",
       "3  hi for all the people who have seen this wonde...          1\n",
       "4  I recently bought the DVD, forgetting just how...          0"
      ]
     },
     "execution_count": 1,
     "metadata": {},
     "output_type": "execute_result"
    }
   ],
   "source": [
    "# Import Movie dataset (previously joined together using csv format)\n",
    "import pandas as pd\n",
    "df = pd.read_csv('/Users/cesarosorio/anaconda/aclImdb/movie_data.csv')\n",
    "df.head(5)"
   ]
  },
  {
   "cell_type": "markdown",
   "metadata": {},
   "source": [
    "#### Cleaning the data"
   ]
  },
  {
   "cell_type": "code",
   "execution_count": 2,
   "metadata": {
    "collapsed": true
   },
   "outputs": [],
   "source": [
    "# Cleanning the MOvie data\n",
    "import re\n",
    "def preprocessor(text):\n",
    "    text = re.sub('<[^>]*>', '', text)\n",
    "    emoticons = re.findall('(?::|;|=)(?:-)?(?:\\)|\\(|D|P)', text)\n",
    "    text = re.sub('[\\W]+', ' ', text.lower()) + \\\n",
    "           ' '.join(emoticons).replace('-', '')\n",
    "    return text\n",
    "\n",
    "df['review'] = df['review'].apply(preprocessor)"
   ]
  },
  {
   "cell_type": "code",
   "execution_count": 3,
   "metadata": {
    "collapsed": false
   },
   "outputs": [
    {
     "data": {
      "text/plain": [
       "(50000, 1921)"
      ]
     },
     "execution_count": 3,
     "metadata": {},
     "output_type": "execute_result"
    }
   ],
   "source": [
    "# Transform the dataframe to a sparse Tdidf matrix\n",
    "#from sklearn.feature_extraction.text import CountVectorizer\n",
    "import numpy as np\n",
    "from sklearn.feature_extraction.text import TfidfVectorizer\n",
    "\n",
    "# Now we create the sparse matrix of tfidf values\n",
    "tfidf = TfidfVectorizer(input='content',stop_words='english',ngram_range=(1, 1),min_df=400, max_df=0.80)\n",
    "# max_df at 80% just eliminates 11 very frequent words\n",
    "# i chose min_df=400 because it is just 0.8% of 50000 reviews, \n",
    "# deletes 98% of  words that are infrequent or 98,000 words.\n",
    "# Stopwords deletes ~300 words more\n",
    "dtm = tfidf.fit_transform([c for c in df['review']])\n",
    "vocab = np.array(tfidf.get_feature_names())\n",
    "dtm = dtm.toarray()  # convert to a regular array\n",
    "vocab = np.array(vocab)\n",
    "dtm.shape"
   ]
  },
  {
   "cell_type": "code",
   "execution_count": 4,
   "metadata": {
    "collapsed": false
   },
   "outputs": [
    {
     "data": {
      "text/plain": [
       "array([ 0.,  0.,  0., ...,  0.,  0.,  0.])"
      ]
     },
     "execution_count": 4,
     "metadata": {},
     "output_type": "execute_result"
    }
   ],
   "source": [
    "dtm[0]"
   ]
  },
  {
   "cell_type": "code",
   "execution_count": 4,
   "metadata": {
    "collapsed": false
   },
   "outputs": [
    {
     "name": "stdout",
     "output_type": "stream",
     "text": [
      "(40000, 1921) (10000, 1921)\n"
     ]
    }
   ],
   "source": [
    "# Create training and test set \n",
    "# in a reasonable time\n",
    "y_class = df.loc[:, 'sentiment'].values\n",
    "n_break= 40000\n",
    "n_final=50000\n",
    "X_train = dtm[:n_break]\n",
    "y_train = y_class[:n_break]\n",
    "X_test = dtm[n_break:n_final]\n",
    "y_test = y_class[n_break:n_final]\n",
    "print(X_train.shape,X_test.shape)"
   ]
  },
  {
   "cell_type": "markdown",
   "metadata": {},
   "source": [
    "#### Neural Networks"
   ]
  },
  {
   "cell_type": "code",
   "execution_count": 6,
   "metadata": {
    "collapsed": true
   },
   "outputs": [],
   "source": [
    "import matplotlib.pyplot as plt\n",
    "import numpy as np\n",
    "import sklearn\n",
    "import sklearn.datasets\n",
    "import matplotlib\n",
    "import theano\n",
    "import theano.tensor as T\n",
    "import pydot_ng\n",
    "from IPython.display import Image\n",
    "from IPython.display import SVG\n",
    "from sklearn.preprocessing import scale\n",
    "import timeit\n",
    "from time import time\n",
    "\n",
    "# Display plots inline and change default figure size\n",
    "%matplotlib inline\n",
    "matplotlib.rcParams['figure.figsize'] = (10.0, 8.0)\n",
    "\n",
    "\n",
    "##Movie data\n",
    "\n",
    "## Original data\n",
    "train_y = y_train.astype(np.int32)\n",
    "test_y = y_test.astype(np.int32)\n",
    "train_X = scale(X_train).astype(np.float32)\n",
    "test_X = scale(X_test).astype(np.float32)\n",
    "\n",
    "\n",
    "# Size definitions\n",
    "num_examples = len(train_X) # training set size\n",
    "nn_input_dim = train_X.shape[1] # input layer dimensionality\n",
    "nn_output_dim = 2 # output layer dimensionality (2 for Movie data and 4 for Wine data)\n",
    "nn_hdim = 3 # hiden layer dimensionality\n",
    "\n",
    "# Gradient descent parameters \n",
    "epsilon = 0.01 # learning rate for gradient descent\n",
    "reg_lambda = 0.01 # regularization strength \n",
    "\n",
    "# Our data vectors\n",
    "X = T.matrix('X') # matrix of doubles\n",
    "y = T.lvector('y') # vector of int64\n",
    "\n",
    "# Shared variables with initial values. We need to learn these.\n",
    "W1 = theano.shared(np.random.randn(nn_input_dim, nn_hdim), name='W1')\n",
    "b1 = theano.shared(np.zeros(nn_hdim), name='b1')\n",
    "W2 = theano.shared(np.random.randn(nn_hdim, nn_output_dim), name='W2')\n",
    "b2 = theano.shared(np.zeros(nn_output_dim), name='b2')\n",
    "\n",
    "# Forward propagation\n",
    "# Note: We are just defining the expressions, nothing is evaluated here!\n",
    "z1 = X.dot(W1) + b1\n",
    "a1 = T.tanh(z1)\n",
    "z2 = a1.dot(W2) + b2\n",
    "y_hat = T.nnet.softmax(z2) # output probabilties\n",
    "\n",
    "# The regularization term (optional)\n",
    "loss_reg = 1./num_examples * reg_lambda/2 * (T.sum(T.sqr(W1)) + T.sum(T.sqr(W2))) \n",
    "# the loss function we want to optimize\n",
    "loss = T.nnet.categorical_crossentropy(y_hat, y).mean() + loss_reg\n",
    "\n",
    "# Returns a class prediction\n",
    "prediction = T.argmax(y_hat, axis=1)\n",
    "\n",
    "# Theano functions that can be called from our Python code\n",
    "forward_prop = theano.function([X], y_hat)\n",
    "calculate_loss = theano.function([X, y], loss)\n",
    "predict = theano.function([X], prediction)\n",
    "\n",
    "# Easy: Let Theano calculate the derivatives for us!\n",
    "dW2 = T.grad(loss, W2)\n",
    "db2 = T.grad(loss, b2)\n",
    "dW1 = T.grad(loss, W1)\n",
    "db1 = T.grad(loss, b1)\n",
    "\n",
    "gradient_step = theano.function(\n",
    "    [X, y],\n",
    "    updates=((W2, W2 - epsilon * dW2),\n",
    "             (W1, W1 - epsilon * dW1),\n",
    "             (b2, b2 - epsilon * db2),\n",
    "             (b1, b1 - epsilon * db1)))"
   ]
  },
  {
   "cell_type": "code",
   "execution_count": 7,
   "metadata": {
    "collapsed": false
   },
   "outputs": [
    {
     "name": "stdout",
     "output_type": "stream",
     "text": [
      "done in 899.647s.\n"
     ]
    }
   ],
   "source": [
    "# This function learns parameters for the neural network and returns the model.\n",
    "# - num_passes: Number of passes through the training data for gradient descent\n",
    "# - print_loss: If True, print the loss every 100 iterations\n",
    "train_errorsNN = []\n",
    "test_errorsNN = []\n",
    "num_passes= 2000\n",
    "def build_model(num_passes=num_passes, print_loss=False):\n",
    "    \n",
    "    # Re-Initialize the parameters to random values. We need to learn these.\n",
    "    # (Needed in case we call this function multiple times)\n",
    "    np.random.seed(0)\n",
    "    W1.set_value(np.random.randn(nn_input_dim, nn_hdim) / np.sqrt(nn_input_dim))\n",
    "    b1.set_value(np.zeros(nn_hdim))\n",
    "    W2.set_value(np.random.randn(nn_hdim, nn_output_dim) / np.sqrt(nn_hdim))\n",
    "    b2.set_value(np.zeros(nn_output_dim))\n",
    "    \n",
    "    # Gradient descent. For each batch...\n",
    "    for i in range(0, num_passes):\n",
    "        # This will update our parameters W2, b2, W1 and b1!\n",
    "        gradient_step(train_X, train_y)\n",
    "        \n",
    "        # Optionally print the loss.\n",
    "        # This is expensive because it uses the whole dataset, so we don't want to do it too often.\n",
    "        if print_loss and i % 100 == 0:\n",
    "            #print(\"Loss after iteration %i: %f\" %(i, calculate_loss(train_X, train_y)))\n",
    "            train_errorsNN.append(1. - np.mean(predict(train_X)==train_y))\n",
    "            test_errorsNN.append(1. - np.mean(predict(test_X)==test_y))\n",
    "  \n",
    "\n",
    "# Build a model with a n-dimensional hidden layer\n",
    "\n",
    "t0 = time()\n",
    "build_model(print_loss=True)\n",
    "print(\"done in %0.3fs.\" % (time() - t0))"
   ]
  },
  {
   "cell_type": "code",
   "execution_count": 9,
   "metadata": {
    "collapsed": false
   },
   "outputs": [
    {
     "data": {
      "text/plain": [
       "<matplotlib.text.Text at 0x11ff2de80>"
      ]
     },
     "execution_count": 9,
     "metadata": {},
     "output_type": "execute_result"
    },
    {
     "data": {
      "image/png": "[encoded data removed]",
      "text/plain": [
       "<matplotlib.figure.Figure at 0x118791668>"
      ]
     },
     "metadata": {},
     "output_type": "display_data"
    }
   ],
   "source": [
    "n_trees_real = num_passes\n",
    "\n",
    "\n",
    "plt.figure(figsize=(15, 5))\n",
    "\n",
    "plt.subplot(131)\n",
    "plt.plot(range(100, n_trees_real +1,100),\n",
    "         test_errorsNN, c='red',\n",
    "         linestyle='dashed', label='test set')\n",
    "\n",
    "plt.plot(range(100, n_trees_real + 1, 100),\n",
    "         train_errorsNN, c='black',\n",
    "         linestyle='dashed', label='train set')\n",
    "\n",
    "\n",
    "plt.legend(loc='upper right')\n",
    "plt.ylim(0, 0.55)\n",
    "plt.xlim(0, 2000)\n",
    "plt.ylabel('Error')\n",
    "plt.xlabel('Iterations')\n",
    "plt.title('Movie Data set \\n', fontsize=12, ha='center')"
   ]
  },
  {
   "cell_type": "code",
   "execution_count": 17,
   "metadata": {
    "collapsed": false
   },
   "outputs": [
    {
     "name": "stdout",
     "output_type": "stream",
     "text": [
      "0.132 0.093225\n"
     ]
    }
   ],
   "source": [
    "print(min(test_errorsNN),min(train_errorsNN))"
   ]
  },
  {
   "cell_type": "code",
   "execution_count": 27,
   "metadata": {
    "collapsed": false
   },
   "outputs": [
    {
     "data": {
      "text/plain": [
       "array([ 0.        ,  0.        ,  0.        ,  0.        ,  0.        ,\n",
       "        0.0855211 ,  0.        ,  0.        ,  0.        ,  0.        ,\n",
       "        0.        ,  0.        ,  0.        ,  0.        ,  0.        ,\n",
       "        0.        ,  0.10440102,  0.        ,  0.        ,  0.        ])"
      ]
     },
     "execution_count": 27,
     "metadata": {},
     "output_type": "execute_result"
    }
   ],
   "source": [
    "dtm[0][400:420]"
   ]
  },
  {
   "cell_type": "code",
   "execution_count": 28,
   "metadata": {
    "collapsed": false
   },
   "outputs": [
    {
     "data": {
      "text/plain": [
       "array(['date', 'dated', 'daughter', 'david', 'day', 'days', 'dead', 'deal',\n",
       "       'dealing', 'deals', 'death', 'debut', 'decade', 'decent', 'decide',\n",
       "       'decided', 'decides', 'decision', 'deep', 'deeply'], \n",
       "      dtype='<U14')"
      ]
     },
     "execution_count": 28,
     "metadata": {},
     "output_type": "execute_result"
    }
   ],
   "source": [
    "vocab[400:420]"
   ]
  },
  {
   "cell_type": "markdown",
   "metadata": {},
   "source": [
    "#### Using Doc2Vec to obtain additional features for the NN model (to go beyond 86.8% accuracy)"
   ]
  },
  {
   "cell_type": "code",
   "execution_count": 6,
   "metadata": {
    "collapsed": false
   },
   "outputs": [
    {
     "name": "stdout",
     "output_type": "stream",
     "text": [
      "(40000,) (10000,)\n"
     ]
    }
   ],
   "source": [
    "#y_class = df.loc[:, 'sentiment'].values\n",
    "#n_break= 40000\n",
    "#n_final=50000\n",
    "#y_train = y_class[:n_break]\n",
    "#y_test = y_class[n_break:n_final]\n",
    "X_d2v = df['review'][:n_break]\n",
    "X_d2v_test = df['review'][n_break:n_final]\n",
    "print(X_d2v.shape,X_d2v_test.shape)"
   ]
  },
  {
   "cell_type": "code",
   "execution_count": 7,
   "metadata": {
    "collapsed": false
   },
   "outputs": [
    {
     "data": {
      "text/plain": [
       "50000"
      ]
     },
     "execution_count": 7,
     "metadata": {},
     "output_type": "execute_result"
    }
   ],
   "source": [
    "token_review=[]\n",
    "for i in range(df['review'].shape[0]):\n",
    "    review = df['review'][i]\n",
    "    token_review.append([i for i in review.split()])\n",
    "\n",
    "len(token_review)"
   ]
  },
  {
   "cell_type": "code",
   "execution_count": 8,
   "metadata": {
    "collapsed": true
   },
   "outputs": [],
   "source": [
    "import gensim\n",
    "LabeledSentence = gensim.models.doc2vec.LabeledSentence\n",
    "    \n",
    "def labelizeReviews(reviews, label_type):\n",
    "    labelized = []\n",
    "    for i,v in enumerate(reviews):\n",
    "        label = '%s_%s'%(label_type,i)\n",
    "        labelized.append(LabeledSentence(v, [label]))\n",
    "    return labelized"
   ]
  },
  {
   "cell_type": "code",
   "execution_count": 9,
   "metadata": {
    "collapsed": false
   },
   "outputs": [
    {
     "data": {
      "text/plain": [
       "50000"
      ]
     },
     "execution_count": 9,
     "metadata": {},
     "output_type": "execute_result"
    }
   ],
   "source": [
    "sentence=labelizeReviews(token_review, \"SENT\")\n",
    "len(sentence)"
   ]
  },
  {
   "cell_type": "code",
   "execution_count": 10,
   "metadata": {
    "collapsed": false
   },
   "outputs": [
    {
     "name": "stdout",
     "output_type": "stream",
     "text": [
      "Time taken for Doc2vec training:  243.51225304603577 seconds.\n"
     ]
    }
   ],
   "source": [
    "from gensim.models import Doc2Vec\n",
    "import gensim.models.doc2vec\n",
    "from gensim import utils\n",
    "from time import time\n",
    "\n",
    "# assumptions: window is 8 words left and right, eliminate words than dont occur in\n",
    "# more than 5 sentences, use 4 workers for a quadcore machine. Size is the size of vector\n",
    "#model = Doc2Vec(sentence, size=100, window=8, workers=4, min_count=5)\n",
    "#model.train(sentence)\n",
    "\n",
    "import random\n",
    "\n",
    "size = 100\n",
    "\n",
    "#instantiate our DM and DBOW models\n",
    "model_dm = Doc2Vec(min_count=5, window=8, size=size, sample=1e-3, negative=5, workers=4)\n",
    "#model_dbow = Doc2Vec(min_count=5, window=8, size=size, sample=1e-3, negative=5, dm=0, workers=4)\n",
    "\n",
    "#build vocab over all reviews\n",
    "model_dm.build_vocab(sentence)\n",
    "#model_dbow.build_vocab(sentence)\n",
    "\n",
    "#We pass through the data set multiple times, shuffling the training reviews each time to improve accuracy.\n",
    "Idx=list(range(len(sentence)))\n",
    "\n",
    "t0 = time()\n",
    "for epoch in range(20):\n",
    "     random.shuffle(Idx)\n",
    "     perm_sentences = [sentence[i] for i in Idx]\n",
    "     model_dm.train(perm_sentences)\n",
    "     #print(epoch)\n",
    "    \n",
    "elapsed=time() - t0\n",
    "print(\"Time taken for Doc2vec training: \", elapsed, \"seconds.\")"
   ]
  },
  {
   "cell_type": "code",
   "execution_count": 38,
   "metadata": {
    "collapsed": false
   },
   "outputs": [
    {
     "data": {
      "text/plain": [
       "[('good', 0.7883749008178711),\n",
       " ('lousy', 0.7355077266693115),\n",
       " ('horrible', 0.7184992432594299),\n",
       " ('lame', 0.7100013494491577),\n",
       " ('terrible', 0.698971152305603),\n",
       " ('poor', 0.698810338973999),\n",
       " ('stupid', 0.6958223581314087),\n",
       " ('awful', 0.6575497388839722),\n",
       " ('crappy', 0.6443665027618408),\n",
       " ('weak', 0.6411662101745605)]"
      ]
     },
     "execution_count": 38,
     "metadata": {},
     "output_type": "execute_result"
    }
   ],
   "source": [
    "model_dm.most_similar('bad')"
   ]
  },
  {
   "cell_type": "code",
   "execution_count": 12,
   "metadata": {
    "collapsed": false
   },
   "outputs": [
    {
     "data": {
      "text/plain": [
       "[('SENT_27689', 0.723747730255127),\n",
       " ('SENT_42290', 0.7038084268569946),\n",
       " ('SENT_33466', 0.7035574913024902),\n",
       " ('SENT_43204', 0.7020452618598938),\n",
       " ('SENT_31316', 0.7013808488845825),\n",
       " ('SENT_32185', 0.6936382055282593),\n",
       " ('SENT_41827', 0.690937876701355),\n",
       " ('SENT_32828', 0.6889008283615112),\n",
       " ('SENT_4176', 0.6883151531219482),\n",
       " ('SENT_47235', 0.684755265712738)]"
      ]
     },
     "execution_count": 12,
     "metadata": {},
     "output_type": "execute_result"
    }
   ],
   "source": [
    "sims = model_dm.docvecs.most_similar(0)\n",
    "sims"
   ]
  },
  {
   "cell_type": "code",
   "execution_count": 13,
   "metadata": {
    "collapsed": false
   },
   "outputs": [
    {
     "data": {
      "text/plain": [
       "array([-0.05064727, -0.25283319,  0.17083608, -0.10996772, -0.0430305 ,\n",
       "       -0.01842013, -0.05075447,  0.07611655,  0.00473158,  0.07783382,\n",
       "       -0.19585735,  0.04891584,  0.20574255, -0.14435893, -0.01531711,\n",
       "        0.11219973, -0.2721853 ,  0.14868011,  0.0634122 ,  0.17671943,\n",
       "        0.16983531,  0.18497667,  0.17713387,  0.08080573, -0.10790437,\n",
       "       -0.01389934,  0.19194293, -0.0377558 ,  0.38202107,  0.14378253,\n",
       "       -0.22441521,  0.00084104, -0.15350206,  0.01024183,  0.19337861,\n",
       "       -0.03595914,  0.05866024, -0.1935425 , -0.38218465,  0.05150442,\n",
       "       -0.12860949, -0.05100375, -0.28356582, -0.23388085, -0.2164485 ,\n",
       "       -0.00898302,  0.09565073,  0.35905534,  0.17599414, -0.02534359,\n",
       "       -0.18531923,  0.02199774,  0.1675231 ,  0.04712206,  0.12579554,\n",
       "        0.08482923,  0.00882371,  0.00244154, -0.22593951, -0.2381904 ,\n",
       "       -0.07116814,  0.07031343, -0.11439206, -0.05388721,  0.09523781,\n",
       "       -0.02243849, -0.06859057, -0.13150413, -0.18219995, -0.14728156,\n",
       "       -0.00810072, -0.00284568,  0.17389409, -0.23668906,  0.1800044 ,\n",
       "       -0.02075773,  0.38433784, -0.15622035, -0.37933004, -0.15995684,\n",
       "        0.00883224, -0.07821058,  0.07020234,  0.33772233, -0.17627598,\n",
       "        0.18822557, -0.05064915, -0.24574743, -0.03932184, -0.25706252,\n",
       "       -0.23347586,  0.01127905, -0.00874561, -0.0467631 ,  0.00709934,\n",
       "       -0.12232418,  0.15487058,  0.05973803, -0.16481411,  0.026828  ], dtype=float32)"
      ]
     },
     "execution_count": 13,
     "metadata": {},
     "output_type": "execute_result"
    }
   ],
   "source": [
    "model_dm.docvecs[39999]"
   ]
  },
  {
   "cell_type": "markdown",
   "metadata": {},
   "source": [
    "#### Running new NN model with doc2vec info ONLY"
   ]
  },
  {
   "cell_type": "code",
   "execution_count": 137,
   "metadata": {
    "collapsed": true
   },
   "outputs": [],
   "source": [
    "#y_class = df.loc[:, 'sentiment'].values\n",
    "#n_break= 40000\n",
    "#n_final=50000\n",
    "#y_train = y_class[:n_break]\n",
    "#y_test = y_class[n_break:n_final]"
   ]
  },
  {
   "cell_type": "code",
   "execution_count": 14,
   "metadata": {
    "collapsed": false
   },
   "outputs": [
    {
     "name": "stdout",
     "output_type": "stream",
     "text": [
      "(40000, 100) (10000, 100)\n"
     ]
    }
   ],
   "source": [
    "X_train_d2v = np.zeros((n_break, size))\n",
    "\n",
    "for i in range(len(X_train_d2v)):\n",
    "    X_train_d2v[i] = model_dm.docvecs[i]\n",
    "    \n",
    "X_test_d2v = np.zeros((n_final - n_break, size))\n",
    "\n",
    "for i in range(n_final - n_break):\n",
    "    X_test_d2v[i] = model_dm.docvecs[i+n_break]\n",
    "\n",
    "print(X_train_d2v.shape ,X_test_d2v.shape )"
   ]
  },
  {
   "cell_type": "code",
   "execution_count": 15,
   "metadata": {
    "collapsed": false
   },
   "outputs": [
    {
     "data": {
      "text/plain": [
       "(40000, 100)"
      ]
     },
     "execution_count": 15,
     "metadata": {},
     "output_type": "execute_result"
    }
   ],
   "source": [
    "X_train_d2v.shape"
   ]
  },
  {
   "cell_type": "markdown",
   "metadata": {},
   "source": [
    "#### Neural Network Model with doc2vec"
   ]
  },
  {
   "cell_type": "code",
   "execution_count": 187,
   "metadata": {
    "collapsed": true
   },
   "outputs": [],
   "source": [
    "import matplotlib.pyplot as plt\n",
    "import numpy as np\n",
    "import sklearn\n",
    "import sklearn.datasets\n",
    "import matplotlib\n",
    "import theano\n",
    "import theano.tensor as T\n",
    "import pydot_ng\n",
    "from IPython.display import Image\n",
    "from IPython.display import SVG\n",
    "from sklearn.preprocessing import scale\n",
    "import timeit\n",
    "from time import time\n",
    "\n",
    "# Display plots inline and change default figure size\n",
    "%matplotlib inline\n",
    "matplotlib.rcParams['figure.figsize'] = (10.0, 8.0)\n",
    "\n",
    "\n",
    "##Movie data\n",
    "\n",
    "## Original data\n",
    "train_y = y_train.astype(np.int32)\n",
    "test_y = y_test.astype(np.int32)\n",
    "train_X = scale(X_train_d2v).astype(np.float32)\n",
    "test_X = scale(X_test_d2v).astype(np.float32)\n",
    "\n",
    "\n",
    "# Size definitions\n",
    "num_examples = len(train_X) # training set size\n",
    "nn_input_dim = train_X.shape[1] # input layer dimensionality\n",
    "nn_output_dim = 2 # output layer dimensionality (2 for Movie data and 4 for Wine data)\n",
    "nn_hdim = 3 # hiden layer dimensionality\n",
    "\n",
    "# Gradient descent parameters \n",
    "epsilon = 0.01 # learning rate for gradient descent\n",
    "reg_lambda = 0.01 # regularization strength \n",
    "\n",
    "# Our data vectors\n",
    "X = T.matrix('X') # matrix of doubles\n",
    "y = T.lvector('y') # vector of int64\n",
    "\n",
    "# Shared variables with initial values. We need to learn these.\n",
    "W1 = theano.shared(np.random.randn(nn_input_dim, nn_hdim), name='W1')\n",
    "b1 = theano.shared(np.zeros(nn_hdim), name='b1')\n",
    "W2 = theano.shared(np.random.randn(nn_hdim, nn_output_dim), name='W2')\n",
    "b2 = theano.shared(np.zeros(nn_output_dim), name='b2')\n",
    "\n",
    "# Forward propagation\n",
    "# Note: We are just defining the expressions, nothing is evaluated here!\n",
    "z1 = X.dot(W1) + b1\n",
    "a1 = T.tanh(z1)\n",
    "z2 = a1.dot(W2) + b2\n",
    "y_hat = T.nnet.softmax(z2) # output probabilties\n",
    "\n",
    "# The regularization term (optional)\n",
    "loss_reg = 1./num_examples * reg_lambda/2 * (T.sum(T.sqr(W1)) + T.sum(T.sqr(W2))) \n",
    "# the loss function we want to optimize\n",
    "loss = T.nnet.categorical_crossentropy(y_hat, y).mean() + loss_reg\n",
    "\n",
    "# Returns a class prediction\n",
    "prediction = T.argmax(y_hat, axis=1)\n",
    "\n",
    "# Theano functions that can be called from our Python code\n",
    "forward_prop = theano.function([X], y_hat)\n",
    "calculate_loss = theano.function([X, y], loss)\n",
    "predict = theano.function([X], prediction)\n",
    "\n",
    "# Easy: Let Theano calculate the derivatives for us!\n",
    "dW2 = T.grad(loss, W2)\n",
    "db2 = T.grad(loss, b2)\n",
    "dW1 = T.grad(loss, W1)\n",
    "db1 = T.grad(loss, b1)\n",
    "\n",
    "gradient_step = theano.function(\n",
    "    [X, y],\n",
    "    updates=((W2, W2 - epsilon * dW2),\n",
    "             (W1, W1 - epsilon * dW1),\n",
    "             (b2, b2 - epsilon * db2),\n",
    "             (b1, b1 - epsilon * db1)))"
   ]
  },
  {
   "cell_type": "code",
   "execution_count": 188,
   "metadata": {
    "collapsed": false
   },
   "outputs": [
    {
     "name": "stdout",
     "output_type": "stream",
     "text": [
      "done in 34.975s.\n"
     ]
    }
   ],
   "source": [
    "# This function learns parameters for the neural network and returns the model.\n",
    "# - num_passes: Number of passes through the training data for gradient descent\n",
    "# - print_loss: If True, print the loss every 100 iterations\n",
    "train_errorsNN = []\n",
    "test_errorsNN = []\n",
    "num_passes= 2000\n",
    "def build_model(num_passes=num_passes, print_loss=False):\n",
    "    \n",
    "    # Re-Initialize the parameters to random values. We need to learn these.\n",
    "    # (Needed in case we call this function multiple times)\n",
    "    np.random.seed(0)\n",
    "    W1.set_value(np.random.randn(nn_input_dim, nn_hdim) / np.sqrt(nn_input_dim))\n",
    "    b1.set_value(np.zeros(nn_hdim))\n",
    "    W2.set_value(np.random.randn(nn_hdim, nn_output_dim) / np.sqrt(nn_hdim))\n",
    "    b2.set_value(np.zeros(nn_output_dim))\n",
    "    \n",
    "    # Gradient descent. For each batch...\n",
    "    for i in range(0, num_passes):\n",
    "        # This will update our parameters W2, b2, W1 and b1!\n",
    "        gradient_step(train_X, train_y)\n",
    "        \n",
    "        # Optionally print the loss.\n",
    "        # This is expensive because it uses the whole dataset, so we don't want to do it too often.\n",
    "        if print_loss and i % 100 == 0:\n",
    "            #print(\"Loss after iteration %i: %f\" %(i, calculate_loss(train_X, train_y)))\n",
    "            train_errorsNN.append(1. - np.mean(predict(train_X)==train_y))\n",
    "            test_errorsNN.append(1. - np.mean(predict(test_X)==test_y))\n",
    "  \n",
    "\n",
    "# Build a model with a n-dimensional hidden layer\n",
    "\n",
    "t0 = time()\n",
    "build_model(print_loss=True)\n",
    "print(\"done in %0.3fs.\" % (time() - t0))"
   ]
  },
  {
   "cell_type": "code",
   "execution_count": 189,
   "metadata": {
    "collapsed": false
   },
   "outputs": [
    {
     "data": {
      "text/plain": [
       "<matplotlib.text.Text at 0x1b7595898>"
      ]
     },
     "execution_count": 189,
     "metadata": {},
     "output_type": "execute_result"
    },
    {
     "data": {
      "image/png": "[encoded data removed]",
      "text/plain": [
       "<matplotlib.figure.Figure at 0x1b76f76d8>"
      ]
     },
     "metadata": {},
     "output_type": "display_data"
    }
   ],
   "source": [
    "n_trees_real = num_passes\n",
    "\n",
    "\n",
    "plt.figure(figsize=(15, 5))\n",
    "\n",
    "plt.subplot(131)\n",
    "plt.plot(range(100, n_trees_real +1,100),\n",
    "         test_errorsNN, c='red',\n",
    "         linestyle='dashed', label='test set')\n",
    "\n",
    "plt.plot(range(100, n_trees_real + 1, 100),\n",
    "         train_errorsNN, c='black',\n",
    "         linestyle='dashed', label='train set')\n",
    "\n",
    "\n",
    "plt.legend(loc='upper right')\n",
    "plt.ylim(0, 0.55)\n",
    "plt.xlim(0, 2000)\n",
    "plt.ylabel('Error')\n",
    "plt.xlabel('Iterations')\n",
    "plt.title('Movie Data set \\n', fontsize=12, ha='center')"
   ]
  },
  {
   "cell_type": "code",
   "execution_count": 143,
   "metadata": {
    "collapsed": false
   },
   "outputs": [
    {
     "name": "stdout",
     "output_type": "stream",
     "text": [
      "0.161 0.157075\n"
     ]
    }
   ],
   "source": [
    "# without scaling doc2vec features\n",
    "print(min(test_errorsNN),min(train_errorsNN))"
   ]
  },
  {
   "cell_type": "code",
   "execution_count": 190,
   "metadata": {
    "collapsed": false
   },
   "outputs": [
    {
     "name": "stdout",
     "output_type": "stream",
     "text": [
      "0.1421 0.141375\n"
     ]
    }
   ],
   "source": [
    "#  scaling doc2vec features: better results\n",
    "print(min(test_errorsNN),min(train_errorsNN))"
   ]
  },
  {
   "cell_type": "markdown",
   "metadata": {},
   "source": [
    "#### Now run the mode using both \"bag of words' and 'doc2vec' info"
   ]
  },
  {
   "cell_type": "code",
   "execution_count": 16,
   "metadata": {
    "collapsed": false
   },
   "outputs": [
    {
     "name": "stdout",
     "output_type": "stream",
     "text": [
      "(40000, 2021) (10000, 2021)\n"
     ]
    }
   ],
   "source": [
    "X_train_total=np.concatenate((X_train,X_train_d2v), axis=1)\n",
    "X_test_total=np.concatenate((X_test,X_test_d2v), axis=1)\n",
    "print(X_train_total.shape,X_test_total.shape)"
   ]
  },
  {
   "cell_type": "code",
   "execution_count": 17,
   "metadata": {
    "collapsed": true
   },
   "outputs": [],
   "source": [
    "import matplotlib.pyplot as plt\n",
    "import numpy as np\n",
    "import sklearn\n",
    "import sklearn.datasets\n",
    "import matplotlib\n",
    "import theano\n",
    "import theano.tensor as T\n",
    "import pydot_ng\n",
    "from IPython.display import Image\n",
    "from IPython.display import SVG\n",
    "from sklearn.preprocessing import scale\n",
    "import timeit\n",
    "from time import time\n",
    "\n",
    "# Display plots inline and change default figure size\n",
    "%matplotlib inline\n",
    "matplotlib.rcParams['figure.figsize'] = (10.0, 8.0)\n",
    "\n",
    "\n",
    "##Movie data\n",
    "\n",
    "## All features: Bag of words and Doc2vec\n",
    "train_y = y_train.astype(np.int32)\n",
    "test_y = y_test.astype(np.int32)\n",
    "train_X = scale(X_train_total).astype(np.float32)\n",
    "test_X = scale(X_test_total).astype(np.float32)\n",
    "\n",
    "\n",
    "# Size definitions\n",
    "num_examples = len(train_X) # training set size\n",
    "nn_input_dim = train_X.shape[1] # input layer dimensionality\n",
    "nn_output_dim = 2 # output layer dimensionality \n",
    "nn_hdim = 3 # hiden layer dimensionality\n",
    "\n",
    "# Gradient descent parameters \n",
    "epsilon = 0.01 # learning rate for gradient descent\n",
    "reg_lambda = 0.01 # regularization strength \n",
    "\n",
    "# Our data vectors\n",
    "X = T.matrix('X') # matrix of doubles\n",
    "y = T.lvector('y') # vector of int64\n",
    "\n",
    "# Shared variables with initial values. We need to learn these.\n",
    "W1 = theano.shared(np.random.randn(nn_input_dim, nn_hdim), name='W1')\n",
    "b1 = theano.shared(np.zeros(nn_hdim), name='b1')\n",
    "W2 = theano.shared(np.random.randn(nn_hdim, nn_output_dim), name='W2')\n",
    "b2 = theano.shared(np.zeros(nn_output_dim), name='b2')\n",
    "\n",
    "# Forward propagation\n",
    "# Note: We are just defining the expressions, nothing is evaluated here!\n",
    "z1 = X.dot(W1) + b1\n",
    "a1 = T.tanh(z1)\n",
    "z2 = a1.dot(W2) + b2\n",
    "y_hat = T.nnet.softmax(z2) # output probabilties\n",
    "\n",
    "# The regularization term (optional)\n",
    "loss_reg = 1./num_examples * reg_lambda/2 * (T.sum(T.sqr(W1)) + T.sum(T.sqr(W2))) \n",
    "# the loss function we want to optimize\n",
    "loss = T.nnet.categorical_crossentropy(y_hat, y).mean() + loss_reg\n",
    "\n",
    "# Returns a class prediction\n",
    "prediction = T.argmax(y_hat, axis=1)\n",
    "\n",
    "# Theano functions that can be called from our Python code\n",
    "forward_prop = theano.function([X], y_hat)\n",
    "calculate_loss = theano.function([X, y], loss)\n",
    "predict = theano.function([X], prediction)\n",
    "\n",
    "# Let Theano calculate the derivatives for us\n",
    "dW2 = T.grad(loss, W2)\n",
    "db2 = T.grad(loss, b2)\n",
    "dW1 = T.grad(loss, W1)\n",
    "db1 = T.grad(loss, b1)\n",
    "\n",
    "gradient_step = theano.function(\n",
    "    [X, y],\n",
    "    updates=((W2, W2 - epsilon * dW2),\n",
    "             (W1, W1 - epsilon * dW1),\n",
    "             (b2, b2 - epsilon * db2),\n",
    "             (b1, b1 - epsilon * db1)))"
   ]
  },
  {
   "cell_type": "code",
   "execution_count": 18,
   "metadata": {
    "collapsed": false
   },
   "outputs": [
    {
     "name": "stdout",
     "output_type": "stream",
     "text": [
      "done in 930.063s.\n"
     ]
    }
   ],
   "source": [
    "# This function learns parameters for the neural network and returns the model.\n",
    "# - num_passes: Number of passes through the training data for gradient descent\n",
    "# - print_loss: If True, print the loss every 100 iterations\n",
    "train_errorsNN = []\n",
    "test_errorsNN = []\n",
    "num_passes= 2000\n",
    "def build_model(num_passes=num_passes, print_loss=False):\n",
    "    \n",
    "    # Re-Initialize the parameters to random values. We need to learn these.\n",
    "    # (Needed in case we call this function multiple times)\n",
    "    np.random.seed(0)\n",
    "    W1.set_value(np.random.randn(nn_input_dim, nn_hdim) / np.sqrt(nn_input_dim))\n",
    "    b1.set_value(np.zeros(nn_hdim))\n",
    "    W2.set_value(np.random.randn(nn_hdim, nn_output_dim) / np.sqrt(nn_hdim))\n",
    "    b2.set_value(np.zeros(nn_output_dim))\n",
    "    \n",
    "    # Gradient descent. For each batch...\n",
    "    for i in range(0, num_passes):\n",
    "        # This will update our parameters W2, b2, W1 and b1!\n",
    "        gradient_step(train_X, train_y)\n",
    "        \n",
    "        # Optionally print the loss.\n",
    "        # This is expensive because it uses the whole dataset, so we don't want to do it too often.\n",
    "        if print_loss and i % 100 == 0:\n",
    "            #print(\"Loss after iteration %i: %f\" %(i, calculate_loss(train_X, train_y)))\n",
    "            train_errorsNN.append(1. - np.mean(predict(train_X)==train_y))\n",
    "            test_errorsNN.append(1. - np.mean(predict(test_X)==test_y))\n",
    "  \n",
    "\n",
    "# Build a model with a n-dimensional hidden layer\n",
    "\n",
    "t0 = time()\n",
    "build_model(print_loss=True)\n",
    "print(\"done in %0.3fs.\" % (time() - t0))"
   ]
  },
  {
   "cell_type": "code",
   "execution_count": 19,
   "metadata": {
    "collapsed": false
   },
   "outputs": [
    {
     "data": {
      "text/plain": [
       "<matplotlib.text.Text at 0x17bb185c0>"
      ]
     },
     "execution_count": 19,
     "metadata": {},
     "output_type": "execute_result"
    },
    {
     "data": {
      "image/png": "[encoded data removed]",
      "text/plain": [
       "<matplotlib.figure.Figure at 0x1b3c1fc88>"
      ]
     },
     "metadata": {},
     "output_type": "display_data"
    }
   ],
   "source": [
    "n_trees_real = num_passes\n",
    "\n",
    "\n",
    "plt.figure(figsize=(15, 5))\n",
    "\n",
    "plt.subplot(131)\n",
    "plt.plot(range(100, n_trees_real +1,100),\n",
    "         test_errorsNN, c='red',\n",
    "         linestyle='dashed', label='test set')\n",
    "\n",
    "plt.plot(range(100, n_trees_real + 1, 100),\n",
    "         train_errorsNN, c='black',\n",
    "         linestyle='dashed', label='train set')\n",
    "\n",
    "\n",
    "plt.legend(loc='upper right')\n",
    "plt.ylim(0, 0.55)\n",
    "plt.xlim(0, 2000)\n",
    "plt.ylabel('Error')\n",
    "plt.xlabel('Iterations')\n",
    "plt.title('Movie Data set \\n', fontsize=12, ha='center')"
   ]
  },
  {
   "cell_type": "code",
   "execution_count": 20,
   "metadata": {
    "collapsed": false
   },
   "outputs": [
    {
     "name": "stdout",
     "output_type": "stream",
     "text": [
      "0.1198 0.08605\n"
     ]
    }
   ],
   "source": [
    "## we acchieved 11.76% error rate in the test set or 88.24% accuracy \n",
    "## combining 'bag of words' and 'doc2vec'\n",
    "print(min(test_errorsNN),min(train_errorsNN))"
   ]
  },
  {
   "cell_type": "markdown",
   "metadata": {},
   "source": [
    "#### End of test"
   ]
  },
  {
   "cell_type": "code",
   "execution_count": 183,
   "metadata": {
    "collapsed": false
   },
   "outputs": [
    {
     "data": {
      "text/plain": [
       "array([ 0.00529616, -0.0409766 ,  0.03171283, -0.07810711, -0.01102173,\n",
       "        0.04823575,  0.080281  ,  0.00776164,  0.04004049,  0.00835915,\n",
       "        0.05199156,  0.10039654, -0.04732696,  0.04031415,  0.08352556,\n",
       "       -0.02692998, -0.01525104,  0.01838643, -0.00789196,  0.00479145,\n",
       "        0.00375875, -0.02157798, -0.01444479,  0.02319912, -0.06565878,\n",
       "        0.00153875,  0.1004648 , -0.01404935, -0.01676909,  0.07490442,\n",
       "       -0.00159302, -0.05919391,  0.05486324, -0.05916072, -0.08205521,\n",
       "       -0.00627669,  0.06990162,  0.00859309, -0.03177552, -0.01206181,\n",
       "        0.00017519,  0.02085466, -0.0329023 ,  0.00559636, -0.07610828,\n",
       "       -0.05323493,  0.005262  , -0.03459534, -0.0195877 ,  0.02589849,\n",
       "        0.03540355, -0.01379014,  0.06419075,  0.00893575, -0.03896128,\n",
       "       -0.02212084, -0.01503388, -0.00480019,  0.02036769, -0.02925434,\n",
       "       -0.05345323, -0.07111195,  0.0361684 ,  0.07475515,  0.02861479,\n",
       "        0.04350529, -0.03231478, -0.04608748,  0.03181088,  0.03327133,\n",
       "       -0.02612241,  0.09381151,  0.03659021,  0.0269712 , -0.02453782,\n",
       "        0.01058674, -0.03417651, -0.04968497,  0.03394432,  0.02216575,\n",
       "       -0.0195626 ,  0.00408224,  0.00360078, -0.0049647 , -0.04347451,\n",
       "       -0.07234402,  0.00100636,  0.0431782 , -0.05241847,  0.03245215,\n",
       "        0.04368384,  0.01126118, -0.07372113,  0.04907944, -0.0180796 ,\n",
       "       -0.01320011, -0.03503636, -0.00291541, -0.04086596, -0.06179605], dtype=float32)"
      ]
     },
     "execution_count": 183,
     "metadata": {},
     "output_type": "execute_result"
    }
   ],
   "source": [
    "model_dm.infer_vector(['in',\n",
    " '1974',\n",
    " 'the',\n",
    " 'teenager',\n",
    " 'martha',\n",
    " 'moxley',\n",
    " 'maggie',\n",
    " 'grace',\n",
    " 'moves',\n",
    " 'to'], alpha=0.1, min_alpha=0.0001, steps=5)"
   ]
  },
  {
   "cell_type": "code",
   "execution_count": 185,
   "metadata": {
    "collapsed": false
   },
   "outputs": [
    {
     "data": {
      "text/plain": [
       "(100,)"
      ]
     },
     "execution_count": 185,
     "metadata": {},
     "output_type": "execute_result"
    }
   ],
   "source": [
    "model_dm.infer_vector(sentence[0].words, alpha=0.1, min_alpha=0.0001, steps=5).shape"
   ]
  },
  {
   "cell_type": "code",
   "execution_count": 33,
   "metadata": {
    "collapsed": false
   },
   "outputs": [
    {
     "data": {
      "text/plain": [
       "<function __main__.build_model>"
      ]
     },
     "execution_count": 33,
     "metadata": {},
     "output_type": "execute_result"
    }
   ],
   "source": [
    "build_model"
   ]
  },
  {
   "cell_type": "code",
   "execution_count": 36,
   "metadata": {
    "collapsed": false
   },
   "outputs": [],
   "source": [
    "# saves the doc2vec model to be used later.\n",
    "model_dm.save('./model_doc2vec')"
   ]
  },
  {
   "cell_type": "code",
   "execution_count": null,
   "metadata": {
    "collapsed": true
   },
   "outputs": [],
   "source": [
    "import pickle\n",
    "import os\n",
    "\n",
    "dest = os.path.join('movieclassifier', 'pkl_objects')\n",
    "if not os.path.exists(dest):\n",
    "    os.makedirs(dest)\n",
    "\n",
    "pickle.dump(stop, open(os.path.join(dest, 'stopwords.pkl'), 'wb'), protocol=4)   \n",
    "pickle.dump(clf, open(os.path.join(dest, 'classifier.pkl'), 'wb'), protocol=4)"
   ]
  }
 ],
 "metadata": {
  "kernelspec": {
   "display_name": "Python 3",
   "language": "python",
   "name": "python3"
  },
  "language_info": {
   "codemirror_mode": {
    "name": "ipython",
    "version": 3
   },
   "file_extension": ".py",
   "mimetype": "text/x-python",
   "name": "python",
   "nbconvert_exporter": "python",
   "pygments_lexer": "ipython3",
   "version": "3.4.4"
  }
 },
 "nbformat": 4,
 "nbformat_minor": 0
}
